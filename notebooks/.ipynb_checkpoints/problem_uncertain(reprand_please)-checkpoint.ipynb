{
 "cells": [
  {
   "cell_type": "markdown",
   "metadata": {},
   "source": [
    "### TODO:\n",
    "1. Back story: how human solve problem unders uncetainity\n",
    "2. Hard problems \n",
    "3. Need for real world feasable and affordable solution"
   ]
  },
  {
   "cell_type": "markdown",
   "metadata": {},
   "source": [
    "## CombinatorialBandits\n",
    "In many real world situations we face well known problems like schedualing setofconflictingtasks orfindingshortestpaths.Althoughweknowmuchabouttheseproblemsandhavegoodalgorithms to solve them, we often run into the furstrating case of not having full info needed to run the algorithm. For example, we may know the tasks we want to schedual but do not know who much time each task will take. This section, will intorduce you to algorithms that will help you run your favorite algorithm to solve problems you are not 100% cetain about. To build intution, we will use task schedualing as a running example. We will start with a simple educational version of the problem and graudally add some complexity that you may face in real world schenarios. At the end, we will reach a duantless algorithm that will enable you to solve complex problems that you are not even certain about. With no further do lets get started!\n"
   ]
  },
  {
   "cell_type": "markdown",
   "metadata": {},
   "source": [
    "### How many phane calles?\n",
    "Our friend Reco got an intersting job in a marketing company, he have number of cients he need to contact to market the company products to them. Reco have access to the clients calender, and he is working on picking time slots to make the best of his time, the goal is to talk to as many clients as he can."
   ]
  },
  {
   "cell_type": "markdown",
   "metadata": {},
   "source": [
    "<img src=\"../figures/Constraint graph.PNG\" width=\"600px\"/>"
   ]
  },
  {
   "cell_type": "markdown",
   "metadata": {},
   "source": [
    "### Version1: the activiy selection problem\n",
    "As usual, Reko starts with simple slutions first. Reco noticed, if we have only one slot per day for each client this problme is similar to activity schedualing problem. In this problem, the input is a set of tasks and there start and end time, the tasks conflict in there times and one person can only perform one task at a time. The goal is to select maximum number of tasks that can be executed by one person. Onesolutionforactivityselectionproblemisthegreedysolution,youstartwiththetaskthatfinish first then pick tasks that finish first and does not confilic with the last task you have selected."
   ]
  },
  {
   "cell_type": "code",
   "execution_count": 1,
   "metadata": {},
   "outputs": [],
   "source": [
    "tasks = [(\"T1\", 8.30, 9.30), \n",
    "         (\"T2\", 9.15, 10.15),\n",
    "         (\"T3\", 9.30, 10.45),\n",
    "         (\"T4\", 10.15, 11.30),\n",
    "         (\"T5\", 12, 13.30),\n",
    "         (\"T6\", 12.15, 13.45)]\n"
   ]
  },
  {
   "cell_type": "code",
   "execution_count": 2,
   "metadata": {},
   "outputs": [
    {
     "name": "stdout",
     "output_type": "stream",
     "text": [
      "[('T1', 8.3, 9.3), ('T3', 9.3, 10.45), ('T5', 12, 13.3)]\n"
     ]
    }
   ],
   "source": [
    "# Algorithm: Activity selection problem\n",
    "# inputs: tasks with start and finish times\n",
    "# output: selected_tasks list of maximum none confilecting tasks\n",
    "\n",
    "#1. stort data by finish time\n",
    "tasks = sorted(tasks, key=lambda x: x[2])\n",
    "\n",
    "#2. start with the taks that have the earliest finsh time\n",
    "last_selected_task = tasks.pop(0)\n",
    "last_selected_task_finish = last_selected_task[2]\n",
    "selected_tasks = [last_selected_task]\n",
    "\n",
    "# add tasks with earlist finish that does not conflict with the seleected tasks\n",
    "while len(tasks) > 0:\n",
    "    task = tasks.pop(0)\n",
    "    task_start = task[1]\n",
    "    if task_start >= last_selected_task_finish:\n",
    "        last_selected_task_finish = task[2]\n",
    "        selected_tasks += [task]\n",
    "\n",
    "\n",
    "print (selected_tasks)"
   ]
  },
  {
   "cell_type": "code",
   "execution_count": 3,
   "metadata": {},
   "outputs": [
    {
     "ename": "ModuleNotFoundError",
     "evalue": "No module named 'tabulate'",
     "output_type": "error",
     "traceback": [
      "\u001b[1;31m---------------------------------------------------------------------------\u001b[0m",
      "\u001b[1;31mModuleNotFoundError\u001b[0m                       Traceback (most recent call last)",
      "\u001b[1;32m<ipython-input-3-822e87843aea>\u001b[0m in \u001b[0;36m<module>\u001b[1;34m()\u001b[0m\n\u001b[0;32m      1\u001b[0m \u001b[1;32mimport\u001b[0m \u001b[0mpandas\u001b[0m \u001b[1;32mas\u001b[0m \u001b[0mpd\u001b[0m\u001b[1;33m\u001b[0m\u001b[0m\n\u001b[1;32m----> 2\u001b[1;33m \u001b[1;32mfrom\u001b[0m \u001b[0mtabulate\u001b[0m \u001b[1;32mimport\u001b[0m \u001b[0mtabulate\u001b[0m\u001b[1;33m\u001b[0m\u001b[0m\n\u001b[0m\u001b[0;32m      3\u001b[0m \u001b[1;32mimport\u001b[0m \u001b[0mmath\u001b[0m\u001b[1;33m\u001b[0m\u001b[0m\n\u001b[0;32m      4\u001b[0m \u001b[1;33m\u001b[0m\u001b[0m\n\u001b[0;32m      5\u001b[0m \u001b[0mdf\u001b[0m \u001b[1;33m=\u001b[0m \u001b[0mpd\u001b[0m\u001b[1;33m.\u001b[0m\u001b[0mDataFrame\u001b[0m\u001b[1;33m(\u001b[0m\u001b[0mselected_tasks\u001b[0m\u001b[1;33m,\u001b[0m \u001b[0mcolumns\u001b[0m\u001b[1;33m=\u001b[0m\u001b[1;33m[\u001b[0m\u001b[1;34m\"task\"\u001b[0m\u001b[1;33m,\u001b[0m \u001b[1;34m\"start time\"\u001b[0m\u001b[1;33m,\u001b[0m \u001b[1;34m\"finish time\"\u001b[0m\u001b[1;33m]\u001b[0m\u001b[1;33m)\u001b[0m\u001b[1;33m.\u001b[0m\u001b[0mset_index\u001b[0m\u001b[1;33m(\u001b[0m\u001b[1;34m\"task\"\u001b[0m\u001b[1;33m)\u001b[0m\u001b[1;33m\u001b[0m\u001b[0m\n",
      "\u001b[1;31mModuleNotFoundError\u001b[0m: No module named 'tabulate'"
     ]
    }
   ],
   "source": [
    "import pandas as pd\n",
    "from tabulate import tabulate\n",
    "import math\n",
    "\n",
    "df = pd.DataFrame(selected_tasks, columns=[\"task\", \"start time\", \"finish time\"]).set_index(\"task\")\n",
    "print(tabulate(df, headers='keys', tablefmt='psql'))\n"
   ]
  },
  {
   "cell_type": "markdown",
   "metadata": {},
   "source": [
    "By applying the greedy algorithm on our example, Reco can talk to 4 clients in that day, Reco can callClientsC1,C3andC5withnoconflicts.Thegreedysolutionisoptimal,toseethat,let’sassume we have an optimal solution that does not start with the first finishing task, if we replace the first task in the solution with the task that is earlists finishing task (note that no time conflict here), then wewillhaveanotheroptimialsolution.Nowweneedtoselecttheoptimaltasksfromtheremaining tasks, so we are solving the Activity selection problem again on small problem size, we can apply same logic until smaller problem be come zero size. Thissolutionsseemstoworkfine,howerverwecouldbettermodelourproblem.first,inrealityReco will not use all the slot time to make the call, for example if the slot is 45 Mins, Reco may only use 30 Mis of them. Moreover, clients have differnet concerns and personalities, for easy going clients Reco could finish in 15 Mins and for other less plesant clients he may need up to and hour. Second, some clients are more valuable to the company, so Reco need to take client value into considration. To handel these issues, Reko thought of another iteation of the problem, it is called the wieghted activity selection problem."
   ]
  },
  {
   "cell_type": "markdown",
   "metadata": {},
   "source": [
    "### Version2:Weighetedactiviyselectionproblme\n",
    "In this version, Reco divided each time slot on 15 min bases, so if the client is free for 1 hour he will consider 15, 30, 45 and 60 mins, then based on his experiance, Reco will pick a time in each slot that is sufficient for each client. Note that, in this setting, you can start after the slot starting time, for example if the client is free from 10:00AM - 11:00AM and he need 45 mins, Reco will consider two options, either 10:00AM - 10:45AM or 10:15AM-11:00AM.\n"
   ]
  },
  {
   "cell_type": "markdown",
   "metadata": {},
   "source": [
    "<img src=\"../figures/weighted tasks.PNG\" width=\"600px\"/>"
   ]
  },
  {
   "cell_type": "markdown",
   "metadata": {},
   "source": [
    "Reco recognised that the problem can be modeled as acyclic directed graph(DAG), and the solution of the problem is the longhest path in that graph."
   ]
  },
  {
   "cell_type": "markdown",
   "metadata": {},
   "source": [
    "<img src=\"../figures/Constraint graph.PNG\" width=\"600px\"/>"
   ]
  },
  {
   "cell_type": "markdown",
   "metadata": {},
   "source": [
    "In general, longest paths are hard problems, actually they are NP-Complete. However fortunatly, longest path in DAG are easy, they could be solved by dynamic programming (DP) algorithm."
   ]
  },
  {
   "cell_type": "code",
   "execution_count": 2,
   "metadata": {},
   "outputs": [
    {
     "data": {
      "text/plain": [
       "['T6_13.0_13.75',\n",
       " 'T5_12.0_12.5',\n",
       " 'T4_10.75_11.0',\n",
       " 'T3_9.5_10.75',\n",
       " 'T1_8.5_9.0']"
      ]
     },
     "execution_count": 2,
     "metadata": {},
     "output_type": "execute_result"
    }
   ],
   "source": [
    "from collections import defaultdict\n",
    "tasks = [(\"T1\", 8.30, 9.30, 0.30, 3), \n",
    "         (\"T2\", 9.15, 10.15, 0.45, 4),\n",
    "         (\"T3\", 9.30, 10.45, 1.15, 2),\n",
    "         (\"T4\", 10.15, 11.30, 0.15, 1),\n",
    "         (\"T5\", 12.00, 13.30, 0.30, 5),\n",
    "         (\"T6\", 12.15, 13.45, 0.45, 2)]\n",
    "\n",
    "tasks = sorted(tasks, key=lambda x: x[2])\n",
    "\n",
    "def base_60_to_base_10(t):\n",
    "    t_hr, t_min = str(t).split(\".\")\n",
    "    t_hr = float(t_hr)\n",
    "    t_min = float(t_min)\n",
    "    if t_min < 10:\n",
    "        t_min = t_min * 10\n",
    "    t = t_hr + (t_min/60.0)\n",
    "    return t\n",
    "\n",
    "def base_10_to_base_60(t):\n",
    "    t_hr, t_min = str(t).split(\".\")\n",
    "    t_hr = float(t_hr)\n",
    "    t_min = float(t_min)\n",
    "    if t_min < 10:\n",
    "        t_min = t_min * 10\n",
    "    t = t_hr + (t_min/100.0 * 0.6)\n",
    "    return t\n",
    "\n",
    "\n",
    "def find_possible_slots(start_time, end_time, duration):\n",
    "    for i in range(int((end_time - start_time) / 0.25)):\n",
    "        end_time_ = start_time + i * 0.25 + duration\n",
    "        if end_time_ <= end_time:\n",
    "            yield (start_time + i * 0.25, start_time + i * 0.25 + duration, duration)\n",
    "            \n",
    "            \n",
    "def connect_tasks_to_successor(tasks, i):\n",
    "    #tasks that will start after i finish and start <= finish of connected to task\n",
    "    #we dont connect last task\n",
    "    if i >= len(tasks) - 1:\n",
    "        return\n",
    "    \n",
    "    to_connect = []\n",
    "    task = tasks[i]\n",
    "    max_successor_start = task[\"finish\"]\n",
    "    for task_ in tasks[i+1:]:\n",
    "        if task[\"task_group\"] == task_[\"task_group\"]:\n",
    "            continue\n",
    "        if task_[\"start\"] >= task[\"finish\"] and (task_[\"start\"] <= max_successor_start or len(to_connect) == 0):\n",
    "            to_connect += [task_[\"task\"]]\n",
    "            max_successor_start = max(task_[\"finish\"], max_successor_start)\n",
    "            \n",
    "    return to_connect\n",
    "\n",
    "\n",
    "tasks_ = []\n",
    "for task in tasks:\n",
    "    slots = list(find_possible_slots(base_60_to_base_10(task[1]), base_60_to_base_10(task[2]), base_60_to_base_10(task[3])))\n",
    "    for slot in slots:\n",
    "        tasks_ += [{\"task\": task[0] + \"_\" + str(slot[0]) + \"_\" + str(slot[1]), \"task_group\": task[0], \"start\": slot[0], \"finish\": slot[1], \"duration\": slot[2], \"weight\": task[4]}]\n",
    "tasks_  = sorted(tasks_, key=lambda x: x[\"finish\"])\n",
    "\n",
    "#build the DAG\n",
    "DAG = []\n",
    "for i in range(0, len(tasks_)):\n",
    "    task = {\"task\": tasks_[i][\"task\"], \"info\": tasks_[i], \"next_tasks\": connect_tasks_to_successor(tasks_, i)}\n",
    "    DAG += [task]\n",
    "    \n",
    "best_weight = defaultdict(float)\n",
    "best_from = defaultdict(str)\n",
    "weight = {task[\"task\"]: task[\"info\"][\"duration\"]  for task in DAG}\n",
    "\n",
    "for i in DAG:\n",
    "    if i[\"next_tasks\"] is not None:\n",
    "        for next_task in i[\"next_tasks\"]:\n",
    "            if weight[next_task] + best_weight[i[\"task\"]] > best_weight[next_task]:\n",
    "                best_weight[next_task] = weight[next_task] + best_weight[i[\"task\"]]\n",
    "                best_from[next_task] = i[\"task\"]\n",
    "                \n",
    "last_task = sorted(best_weight.items(), key=lambda i:i[1])[-1][0]\n",
    "path = [last_task]\n",
    "while best_from[last_task] != \"\":\n",
    "    path += [best_from[last_task]]\n",
    "    last_task = best_from[last_task]\n",
    "    \n",
    "path\n"
   ]
  },
  {
   "cell_type": "markdown",
   "metadata": {},
   "source": [
    "### Lets face it, no algorithm is enouph !"
   ]
  },
  {
   "cell_type": "markdown",
   "metadata": {},
   "source": [
    "Great! reko is almost there, the DP algorithm collect x units of utility. Reco have one last riddel to solve,in reality each call have a probabilistic output. For example,if he spend 45 Mins with the client 1 there is 85% proability to successed and 15% to fail and gain nothing, in the other hand if he spend only 15 Mins the client will not feelcomforable and the proability reduces to 35% of success and 65% of faliur. This introduce two problems, first: what does it mean to find optimal solution when the output is probabilistic. And second, even if we could solve it, from where on plant earth we could get these proabilities! Reco took a large cup of coffee and went on a deep thinking, after couple of hours Reco recognised that the algorithm should mutally optimize for total value and learn the probabilites on the way.Do optimize and learn sounds familure to you? of course, this is what bandits does.\n"
   ]
  },
  {
   "cell_type": "markdown",
   "metadata": {},
   "source": [
    "> **_NOTE:_** in is common that constraints of real world problems make the designing algorithm a hard task, instead model the problem and let the solvers do the heavy lefing for you ;)"
   ]
  },
  {
   "cell_type": "markdown",
   "metadata": {},
   "source": [
    "* Issue 1: How to overcome the pathalogical case of our algorithm\n",
    "* Issue 2: How to account for probabilisitc outcome \n",
    "* Issue 3: How to solve the problem with missing info"
   ]
  },
  {
   "cell_type": "markdown",
   "metadata": {},
   "source": [
    "### Version 3: An optimization problem"
   ]
  },
  {
   "cell_type": "code",
   "execution_count": null,
   "metadata": {},
   "outputs": [],
   "source": []
  },
  {
   "cell_type": "markdown",
   "metadata": {},
   "source": [
    "### Version4: Bandits to learn uncertinatiy\n"
   ]
  },
  {
   "cell_type": "code",
   "execution_count": null,
   "metadata": {},
   "outputs": [],
   "source": []
  }
 ],
 "metadata": {
  "kernelspec": {
   "display_name": "Python 3",
   "language": "python",
   "name": "python3"
  },
  "language_info": {
   "codemirror_mode": {
    "name": "ipython",
    "version": 3
   },
   "file_extension": ".py",
   "mimetype": "text/x-python",
   "name": "python",
   "nbconvert_exporter": "python",
   "pygments_lexer": "ipython3",
   "version": "3.6.5"
  }
 },
 "nbformat": 4,
 "nbformat_minor": 2
}
