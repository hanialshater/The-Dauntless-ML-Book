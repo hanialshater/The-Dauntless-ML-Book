{
 "cells": [
  {
   "cell_type": "code",
   "execution_count": 137,
   "metadata": {},
   "outputs": [],
   "source": [
    "# !pip install pyomo\n",
    "# !pyomo install-extras\n",
    "#!conda install -y -c conda-forge pyomo.extras\n",
    "#!conda install -y -c conda-forge glpk\n",
    "import random\n",
    "import numpy as np\n",
    "import pandas as pd\n",
    "import pdb\n",
    "import math\n",
    "%matplotlib inline "
   ]
  },
  {
   "cell_type": "code",
   "execution_count": 1537,
   "metadata": {},
   "outputs": [
    {
     "name": "stdout",
     "output_type": "stream",
     "text": [
      "1 Set Declarations\n",
      "    x_index : Dim=0, Dimen=1, Size=4, Domain=None, Ordered=False, Bounds=None\n",
      "        ['hammer', 'screwdriver', 'towel', 'wrench']\n",
      "\n",
      "1 Var Declarations\n",
      "    x : Size=4, Index=x_index\n",
      "        Key         : Lower : Value : Upper : Fixed : Stale : Domain\n",
      "             hammer :     0 :   1.0 :     1 : False : False : Binary\n",
      "        screwdriver :     0 :   1.0 :     1 : False : False : Binary\n",
      "              towel :     0 :   1.0 :     1 : False : False : Binary\n",
      "             wrench :     0 :   0.0 :     1 : False : False : Binary\n",
      "\n",
      "1 Objective Declarations\n",
      "    value : Size=1, Index=None, Active=True\n",
      "        Key  : Active : Sense    : Expression\n",
      "        None :   True : maximize : 8*x[hammer] + 3*x[wrench] + 6*x[screwdriver] + 11*x[towel]\n",
      "\n",
      "1 Constraint Declarations\n",
      "    weight : Size=1, Index=None, Active=True\n",
      "        Key  : Lower : Body                                                      : Upper : Active\n",
      "        None :  -Inf : 5*x[hammer] + 7*x[wrench] + 4*x[screwdriver] + 3*x[towel] :  14.0 :   True\n",
      "\n",
      "4 Declarations: x_index x value weight\n"
     ]
    }
   ],
   "source": [
    "from pyomo.environ import *\n",
    "import pyomo.environ as pe \n",
    "\n",
    "A = ['hammer', 'wrench', 'screwdriver', 'towel']\n",
    "b = {'hammer':8, 'wrench':3, 'screwdriver':6, 'towel':11}\n",
    "w = {'hammer':5, 'wrench':7, 'screwdriver':4, 'towel':3}\n",
    "W_max = 14\n",
    "model = ConcreteModel()\n",
    "model.x = Var( A, within=Binary )\n",
    "model.value = Objective(expr = sum( b[i]*model.x[i] for i in A), sense = maximize )\n",
    "model.weight = Constraint(expr = sum( w[i]*model.x[i] for i in A) <= W_max )\n",
    "opt = SolverFactory('glpk')\n",
    "result_obj = opt.solve(model)\n",
    "model.pprint()"
   ]
  },
  {
   "cell_type": "code",
   "execution_count": 3,
   "metadata": {},
   "outputs": [
    {
     "data": {
      "text/plain": [
       "{'screwdriver': 1.0, 'towel': 1.0, 'wrench': 0.0, 'hammer': 1.0}"
      ]
     },
     "execution_count": 3,
     "metadata": {},
     "output_type": "execute_result"
    }
   ],
   "source": [
    "model.x.get_values()"
   ]
  },
  {
   "cell_type": "markdown",
   "metadata": {},
   "source": [
    "### Optimize"
   ]
  },
  {
   "cell_type": "code",
   "execution_count": 1534,
   "metadata": {},
   "outputs": [],
   "source": [
    "def generate_schedual(clients):\n",
    "    schedual = []\n",
    "    for client in clients:\n",
    "        num_slots = random.randint(1, 2)\n",
    "        for i in range(num_slots):\n",
    "            start = float(random.randint(8, 14)) + random.randint(0, 4) * 0.25\n",
    "            duration = 0.25 * random.randint(1, 4)\n",
    "            end = start + duration\n",
    "            weight = random.randint(1, 5)\n",
    "            schedual += [[client, start, end, duration, weight]]\n",
    "    return schedual"
   ]
  },
  {
   "cell_type": "code",
   "execution_count": 4,
   "metadata": {},
   "outputs": [],
   "source": [
    "from collections import defaultdict\n",
    "tasks = [[\"T1\", 08.50, 09.50, 1.00, 3], \n",
    "         [\"T2\", 09.25, 10.00, 0.75, 4],\n",
    "         [\"T3\", 09.50, 10.75, 0.50, 2],\n",
    "         [\"T4\", 10.25, 11.50, 0.25, 1],\n",
    "         [\"T5\", 12.00, 13.50, 0.75, 1],\n",
    "         [\"T6\", 12.25, 13.75, 0.75, 2],\n",
    "         [\"T1\", 12.00, 13.50, 1.00, 3]]\n",
    "\n",
    "def find_possible_slots(start_time, end_time, duration):\n",
    "    for i in range(int((end_time - start_time) / 0.25)):\n",
    "        end_time_ = start_time + i * 0.25 + duration\n",
    "        if end_time_ <= end_time:\n",
    "            yield (start_time + i * 0.25, start_time + i * 0.25 + duration, duration)\n",
    "\n",
    "def task_id(task, slot):\n",
    "    return {\"task\": task[0] + \"_\" + str(slot[0]) + \"_\" + str(slot[1]), \n",
    "            \"task_group\": task[0], \n",
    "            \"start\": slot[0], \n",
    "            \"finish\": slot[1], \n",
    "            \"duration\": slot[2], \n",
    "            \"weight\": task[4]}\n",
    "\n",
    "def compute_possible_tasks(tasks):\n",
    "    tasks_ = []\n",
    "    for task in tasks:\n",
    "        slots = find_possible_slots(float(task[1]), float(task[2]), float(task[3]))\n",
    "        for slot in slots:\n",
    "            tasks_ += [task_id(task, slot)]\n",
    "    tasks_  = sorted(tasks_, key=lambda x: x[\"finish\"])\n",
    "    return pd.DataFrame(tasks_)\n",
    "\n",
    "\n"
   ]
  },
  {
   "cell_type": "code",
   "execution_count": 5,
   "metadata": {},
   "outputs": [],
   "source": [
    "def find_task_overlaps(possible_tasks):\n",
    "    overlapping_tasks = {}\n",
    "    for task in possible_tasks.task.unique():\n",
    "        start, finish = possible_tasks[possible_tasks.task == task].iloc[0][[\"start\", \"finish\"]].values\n",
    "        overlapping_tasks_ = possible_tasks[(possible_tasks.start >= start) & (possible_tasks.start < finish)]\n",
    "        overlapping_tasks_ = list(overlapping_tasks_.task.unique())\n",
    "        if len(overlapping_tasks_) > 1:\n",
    "            overlapping_tasks[task] = overlapping_tasks_\n",
    "    return overlapping_tasks\n",
    "\n",
    "def find_task_groups(possible_tasks):\n",
    "    return possible_tasks[\"task_group\"].unique()"
   ]
  },
  {
   "cell_type": "code",
   "execution_count": 1538,
   "metadata": {},
   "outputs": [],
   "source": [
    "def schedual_tasks(tasks):\n",
    "    model = ConcreteModel()\n",
    "\n",
    "    #data\n",
    "    possible_tasks = compute_possible_tasks(tasks)\n",
    "    tasks = possible_tasks.task.values\n",
    "    w = {r.task: r.weight for _, r in possible_tasks[possible_tasks.task == tasks].iterrows()}\n",
    "\n",
    "    #constarint data\n",
    "    overlapping_tasks = find_task_overlaps(possible_tasks)\n",
    "    task_groups = find_task_groups(possible_tasks)\n",
    "\n",
    "    #variables\n",
    "    model.x = Var(tasks, within=Binary )\n",
    "\n",
    "    #objective\n",
    "    model.value = Objective(expr = sum(w[i]*model.x[i] for i in tasks), sense = maximize )\n",
    "\n",
    "    #constraints\n",
    "    @model.Constraint(task_groups)\n",
    "    def one_each_group(m, tg):\n",
    "        return sum(m.x[task] for task in possible_tasks[possible_tasks[\"task_group\"] == tg][\"task\"].unique()) <= 1\n",
    "\n",
    "    @model.Constraint(overlapping_tasks.keys())\n",
    "    def one_each_overlap(m, t):\n",
    "        return sum(m.x[task] for task in overlapping_tasks[t]) <= 1\n",
    "\n",
    "    #solve\n",
    "    opt = SolverFactory('glpk')\n",
    "    result_obj = opt.solve(model)\n",
    "    selected = [k for k, v in model.x.get_values().items() if v == 1]\n",
    "    \n",
    "    #formate resutls\n",
    "    results = (possible_tasks\n",
    "          .loc[possible_tasks.task.isin(selected)]\n",
    "          .sort_values(by=['start'])\n",
    "          .set_index(\"task_group\")\n",
    "          [[\"start\", \"finish\", \"duration\", \"weight\"]])\n",
    "    return results\n"
   ]
  },
  {
   "cell_type": "code",
   "execution_count": 1539,
   "metadata": {},
   "outputs": [],
   "source": [
    "%%capture\n",
    "results = schedual_tasks(tasks)\n"
   ]
  },
  {
   "cell_type": "code",
   "execution_count": 1540,
   "metadata": {},
   "outputs": [
    {
     "data": {
      "text/html": [
       "<div>\n",
       "<style scoped>\n",
       "    .dataframe tbody tr th:only-of-type {\n",
       "        vertical-align: middle;\n",
       "    }\n",
       "\n",
       "    .dataframe tbody tr th {\n",
       "        vertical-align: top;\n",
       "    }\n",
       "\n",
       "    .dataframe thead th {\n",
       "        text-align: right;\n",
       "    }\n",
       "</style>\n",
       "<table border=\"1\" class=\"dataframe\">\n",
       "  <thead>\n",
       "    <tr style=\"text-align: right;\">\n",
       "      <th></th>\n",
       "      <th>start</th>\n",
       "      <th>finish</th>\n",
       "      <th>duration</th>\n",
       "      <th>weight</th>\n",
       "    </tr>\n",
       "    <tr>\n",
       "      <th>task_group</th>\n",
       "      <th></th>\n",
       "      <th></th>\n",
       "      <th></th>\n",
       "      <th></th>\n",
       "    </tr>\n",
       "  </thead>\n",
       "  <tbody>\n",
       "    <tr>\n",
       "      <th>T2</th>\n",
       "      <td>9.25</td>\n",
       "      <td>10.00</td>\n",
       "      <td>0.75</td>\n",
       "      <td>4</td>\n",
       "    </tr>\n",
       "    <tr>\n",
       "      <th>T3</th>\n",
       "      <td>10.00</td>\n",
       "      <td>10.50</td>\n",
       "      <td>0.50</td>\n",
       "      <td>2</td>\n",
       "    </tr>\n",
       "    <tr>\n",
       "      <th>T4</th>\n",
       "      <td>10.50</td>\n",
       "      <td>10.75</td>\n",
       "      <td>0.25</td>\n",
       "      <td>1</td>\n",
       "    </tr>\n",
       "    <tr>\n",
       "      <th>T1</th>\n",
       "      <td>12.00</td>\n",
       "      <td>13.00</td>\n",
       "      <td>1.00</td>\n",
       "      <td>3</td>\n",
       "    </tr>\n",
       "    <tr>\n",
       "      <th>T6</th>\n",
       "      <td>13.00</td>\n",
       "      <td>13.75</td>\n",
       "      <td>0.75</td>\n",
       "      <td>2</td>\n",
       "    </tr>\n",
       "  </tbody>\n",
       "</table>\n",
       "</div>"
      ],
      "text/plain": [
       "            start  finish  duration  weight\n",
       "task_group                                 \n",
       "T2           9.25   10.00      0.75       4\n",
       "T3          10.00   10.50      0.50       2\n",
       "T4          10.50   10.75      0.25       1\n",
       "T1          12.00   13.00      1.00       3\n",
       "T6          13.00   13.75      0.75       2"
      ]
     },
     "execution_count": 1540,
     "metadata": {},
     "output_type": "execute_result"
    }
   ],
   "source": [
    "results"
   ]
  },
  {
   "cell_type": "code",
   "execution_count": 1541,
   "metadata": {},
   "outputs": [
    {
     "data": {
      "text/plain": [
       "12"
      ]
     },
     "execution_count": 1541,
     "metadata": {},
     "output_type": "execute_result"
    }
   ],
   "source": [
    "results.weight.sum()"
   ]
  },
  {
   "cell_type": "code",
   "execution_count": 1542,
   "metadata": {},
   "outputs": [
    {
     "data": {
      "text/plain": [
       "10"
      ]
     },
     "execution_count": 1542,
     "metadata": {},
     "output_type": "execute_result"
    }
   ],
   "source": [
    "def solve_by_elemination(tasks):\n",
    "    schedual = []\n",
    "    possible_tasks = compute_possible_tasks(tasks)\n",
    "    possible_tasks_ = possible_tasks.copy().sort_values(by=['weight'], ascending=False)\n",
    "    for i in range(100):\n",
    "        try:\n",
    "            task, task_group, start, finish = possible_tasks_.iloc[i][[\"task\", \"task_group\", \"start\", \"finish\"]]\n",
    "            possible_tasks_ = possible_tasks_[~((possible_tasks_.start >= start) & (possible_tasks_.start < finish) & ((possible_tasks_.task != task)))]\n",
    "            possible_tasks_ = possible_tasks_[~((possible_tasks_.finish > start) & (possible_tasks_.finish <= finish) & ((possible_tasks_.task != task)))]\n",
    "            possible_tasks_ = possible_tasks_[(possible_tasks_.task_group != task_group) | (possible_tasks_.task == task ) ]\n",
    "            schedual += [task]\n",
    "        except:\n",
    "            break\n",
    "    return possible_tasks[possible_tasks.task.isin(schedual)]\n",
    "\n",
    "solve_by_elemination(tasks).weight.sum()"
   ]
  },
  {
   "cell_type": "markdown",
   "metadata": {},
   "source": [
    "### We don't know the weights"
   ]
  },
  {
   "cell_type": "code",
   "execution_count": 1543,
   "metadata": {},
   "outputs": [],
   "source": [
    "class Oracle:\n",
    "    def observe(self, problem, solution):\n",
    "        pass\n",
    "        \n",
    "class Solver:\n",
    "    def solve(self, problem, weights):\n",
    "        pass\n",
    "    \n",
    "class Problem:\n",
    "    pass\n",
    "\n",
    "class ProblemModel:\n",
    "    def get_all_weights(self):\n",
    "        pass\n",
    "    \n",
    "    def set_weights(self, weights):\n",
    "        pass\n",
    "    \n"
   ]
  },
  {
   "cell_type": "code",
   "execution_count": 1544,
   "metadata": {},
   "outputs": [],
   "source": [
    "class TaskSchedualingProblem(Problem):\n",
    "    def __init__(self, tasks):\n",
    "        self.tasks = tasks\n",
    "\n",
    "\n",
    "class TaskSchedualingProblemModel(ProblemModel):\n",
    "    def __init__(self, tasks, weights_known=False):\n",
    "        if weights_known:\n",
    "            self.weights = dict(compute_possible_tasks(tasks)[[\"task_group\", \"weight\"]].drop_duplicates().values)\n",
    "        else:\n",
    "            self.weights = {i: random.random() for i in compute_possible_tasks(tasks)[\"task_group\"].drop_duplicates().values}\n",
    "        self.arms = self.weights.keys()  \n",
    "        \n",
    "    def get_all_weights(self):\n",
    "        return self.weights\n",
    "    \n",
    "    def set_weights(self, weights):\n",
    "        for k, v in weights.items():\n",
    "            self.weights[k] = v\n",
    "    \n",
    "\n",
    "class TaskSchedualingSolver(Solver):\n",
    "    def __init__(self):\n",
    "        pass \n",
    "    \n",
    "    def solve(self, problem, weights):\n",
    "        tasks = [task[:4] + [weights[task[0]]] for task in problem.tasks]\n",
    "        return schedual_tasks(tasks).index.values\n",
    "        \n",
    "        \n",
    "class TaskSchedualingOracle(Oracle):\n",
    "    def __init__(self, tasks, noise_factor=3.0):\n",
    "        self.weights = dict(compute_possible_tasks(tasks)[[\"task_group\", \"weight\"]].drop_duplicates().values)\n",
    "        self.arms = self.weights.keys()  \n",
    "        self.noise_factor = noise_factor\n",
    "        \n",
    "    def get_weight(self, x, noisy=False):\n",
    "        if noisy:\n",
    "            return self.weights[x] + (random.random() - 0.5) * self.noise_factor\n",
    "        else:\n",
    "            return self.weights[x]\n",
    "        \n",
    "    def observe(self, problem, solution, noisy=False):\n",
    "        return [self.get_weight(x, noisy=noisy) for x in solution]\n",
    "        \n",
    "        \n",
    "class CombUcb1:\n",
    "    def __init__(self, problem, problem_model, solver, oracle, mode='Max'):\n",
    "        self.problem = problem\n",
    "        self.solver = solver\n",
    "        self.oracle = oracle\n",
    "        self.arms = problem_model.arms\n",
    "        self.mode = mode\n",
    "        self.init_algorithm()\n",
    "\n",
    "    def init_algorithm(self):\n",
    "        uu = {i: 0.0 for i in self.arms}\n",
    "        w = {i: 0.0 for i in self.arms}\n",
    "        t = 0\n",
    "        for arm in uu.keys():\n",
    "            if self.mode == 'Max':\n",
    "                uu[arm] = 1.0\n",
    "            elif self.mode == 'Min':\n",
    "                uu[arm] = 0.0\n",
    "            else:\n",
    "                raise Exception('Mode is only Max or Min')\n",
    "        solution_exists = True\n",
    "\n",
    "        while ((self.mode == 'Min' and np.min(list(uu.values())) == 0)\n",
    "                                        or (self.mode == 'Max' and np.max(list(uu.values())) == 1.0)):\n",
    "            At = self.solver.solve(self.problem, uu)\n",
    "            if At is None:\n",
    "                break\n",
    "            AtW = self.oracle.observe(self.problem, At, noisy=True)\n",
    "\n",
    "            for idx, e in enumerate(At):\n",
    "                w[e] = AtW[idx]\n",
    "                if self.mode == 'Max':\n",
    "                    uu[e] = 0.0\n",
    "                elif self.mode == 'Min':\n",
    "                    uu[e] = 1.0\n",
    "                else:\n",
    "                    raise Exception('Mode is only Max or Min')\n",
    "            t += 1\n",
    "        self.weights = w\n",
    "        self.time_steps = {i: 1.0 for i in w.keys()}\n",
    "        self.t = t\n",
    "\n",
    "    def bandit_iter(self):\n",
    "        weights = self.weights\n",
    "        time_steps = self.time_steps\n",
    "        t = self.t\n",
    "        if self.mode == 'Max':\n",
    "            u_ucb = {i: min(weights[i] + np.sqrt(1.5 * np.log(t)/time_steps[i]), 1.0) for i in weights.keys()}\n",
    "        elif self.mode == 'Min':\n",
    "            u_ucb = {i: max(weights[i] - np.sqrt(1.5 * np.log(t)/time_steps[i]), 0) for i in weights.keys()}\n",
    "        else:\n",
    "            raise Exception('Mode is only Max or Min')\n",
    "        At = self.solver.solve(self.problem, u_ucb)\n",
    "        wAt = self.oracle.observe(self.problem, At)\n",
    "        for idx, e in enumerate(At):\n",
    "            weights[e] = (time_steps[e] * weights[e] + wAt[idx]) / (time_steps[e] + 1)\n",
    "            time_steps[e] += 1\n",
    "        t += 1\n",
    "        self.time_steps = time_steps\n",
    "        self.weights = weights\n",
    "        self.t = t\n",
    "\n",
    "    def solve(self):\n",
    "        weights = self.weights\n",
    "        u_ucb = weights\n",
    "        return self.solver.solve(self.problem, u_ucb)\n"
   ]
  },
  {
   "cell_type": "code",
   "execution_count": 1545,
   "metadata": {},
   "outputs": [
    {
     "data": {
      "text/plain": [
       "12"
      ]
     },
     "execution_count": 1545,
     "metadata": {},
     "output_type": "execute_result"
    }
   ],
   "source": [
    "problem = TaskSchedualingProblem(tasks)\n",
    "problem_model = TaskSchedualingProblemModel(tasks, weights_known=True)\n",
    "oracle = TaskSchedualingOracle(tasks, noise_factor=5)\n",
    "solver = TaskSchedualingSolver()\n",
    "sln = solver.solve(problem, problem_model.get_all_weights())\n",
    "sum(oracle.observe(problem, sln, noisy=False))"
   ]
  },
  {
   "cell_type": "code",
   "execution_count": 1546,
   "metadata": {},
   "outputs": [
    {
     "data": {
      "text/plain": [
       "10"
      ]
     },
     "execution_count": 1546,
     "metadata": {},
     "output_type": "execute_result"
    }
   ],
   "source": [
    "problem_model_uncertain = TaskSchedualingProblemModel(tasks, weights_known=False)\n",
    "sln = solver.solve(problem, problem_model_uncertain.get_all_weights())\n",
    "sum(oracle.observe(problem, sln, noisy=False))\n"
   ]
  },
  {
   "cell_type": "code",
   "execution_count": 1547,
   "metadata": {},
   "outputs": [],
   "source": [
    "%%capture \n",
    "b = CombUcb1(problem=problem, problem_model=problem_model_uncertain, solver=solver, oracle=oracle, mode='Max')\n",
    "\n",
    "for i in range(5):\n",
    "    print (i)\n",
    "    b.bandit_iter()"
   ]
  },
  {
   "cell_type": "code",
   "execution_count": 1548,
   "metadata": {},
   "outputs": [
    {
     "data": {
      "text/plain": [
       "10"
      ]
     },
     "execution_count": 1548,
     "metadata": {},
     "output_type": "execute_result"
    }
   ],
   "source": [
    "sln = solver.solve(problem, b.weights)\n",
    "sum(oracle.observe(problem, sln, noisy=False))"
   ]
  },
  {
   "cell_type": "markdown",
   "metadata": {},
   "source": [
    "### wait, we can solve problems without knwing the parametrics ?! what about other problems like shortest path "
   ]
  },
  {
   "cell_type": "code",
   "execution_count": null,
   "metadata": {},
   "outputs": [],
   "source": []
  },
  {
   "cell_type": "markdown",
   "metadata": {},
   "source": [
    "### Extend to a team of phone marekters"
   ]
  },
  {
   "cell_type": "code",
   "execution_count": 1549,
   "metadata": {},
   "outputs": [],
   "source": [
    "agents_workload = (\"Alex\", \"Jennifer\", \"Andrew\", \"DeAnna\", \"Jesse\")\n",
    "\n",
    "clients = (\n",
    "    \"Trista\", \"Meredith\", \"Aaron\", \"Bob\", \"Jillian\",\n",
    "    \"Ali\", \"Ashley\", \"Emily\", \"Desiree\", \"Byron\")"
   ]
  },
  {
   "cell_type": "code",
   "execution_count": 1550,
   "metadata": {},
   "outputs": [],
   "source": [
    "import numpy as np\n",
    "import sklearn\n",
    "\n",
    "def score(agent, client):\n",
    "    try:\n",
    "        s = 1 / (1 + math.exp(-np.dot(agents_v[agent], clients_v[client])))\n",
    "    except:\n",
    "        print (np.dot(agents_v[agent], clients_v[client]))\n",
    "        return random.random()\n",
    "    return s\n",
    "    \n",
    "def generate_matching_problem(agents, clients):\n",
    "    num_samples = len(agents) + len(clients)\n",
    "    samples = sklearn.datasets.make_swiss_roll(num_samples, noise=3, random_state=0)[0]\n",
    "    random.shuffle(samples)\n",
    "    clients_v = {clients[i]: samples[i] for i in range(len(clients))}\n",
    "    agents_v = {agents[i]: samples[i] for i in range(len(agents))}\n",
    "    match_scores = dict(\n",
    "        ((agent, client), score(agent, client))\n",
    "        for agent in agents_workloads\n",
    "        for client in clients)\n",
    "\n",
    "    client_time = {client: random.randint(1, 4) for client in clients}\n",
    "    agents_workload = {agent: random.randint(2, 5) for agent in agents}\n",
    "    \n",
    "    return match_scores, client_time, agents_workload, clients_v, agents_v"
   ]
  },
  {
   "cell_type": "code",
   "execution_count": 1551,
   "metadata": {},
   "outputs": [],
   "source": [
    "def solve_matching(match_scores, client_time, agents_workload):\n",
    "    agents = agents_workloads.keys()\n",
    "    clients = client_time.keys()\n",
    "    \n",
    "    model = pe.ConcreteModel()\n",
    "    model.agents = agents_workloads.keys()\n",
    "    model.clients = clients\n",
    "    model.match_scores = match_scores\n",
    "    model.agents_workload = agents_workload\n",
    "\n",
    "    model.assignments = pe.Var(match_scores.keys(), domain=pe.Binary)\n",
    "    model.objective = pe.Objective(\n",
    "            expr=pe.summation(model.match_scores, model.assignments),\n",
    "            sense=pe.maximize)\n",
    "\n",
    "    @model.Constraint(model.agents)\n",
    "    def respect_workload(model, agent):\n",
    "        return sum(model.assignments[agent, client] * client_time[client] for client in model.clients) <= model.agents_workload[agent]\n",
    "\n",
    "    @model.Constraint(model.clients)\n",
    "    def one_agent_per_client(model, client):\n",
    "        return sum(model.assignments[agent, client] for agent in model.agents) <= 1\n",
    "\n",
    "\n",
    "    solver = pe.SolverFactory(\"glpk\")\n",
    "    solver.solve(model)\n",
    "    sln = [k for k, v in model.assignments.get_values().items() if v == 1.0]\n",
    "    return sln, sum(match_scores[i] for i in sln)\n",
    "    "
   ]
  },
  {
   "cell_type": "code",
   "execution_count": 1552,
   "metadata": {},
   "outputs": [],
   "source": [
    "def solve_matching_greedy(match_scores, client_time, agents_workload):\n",
    "    agents = agents_workloads.keys()\n",
    "    clients = client_time.keys()\n",
    "    matching = sorted(match_scores.items(), key=lambda x: -x[1])\n",
    "    clients_indicator = {client: 0 for client in clients}\n",
    "    agents_workload_ = agents_workload.copy()\n",
    "    sln = []\n",
    "    for (agent, client), score in matching:\n",
    "        if clients_indicator[client] == 0 and agents_workload_[agent] >= client_time[client]:\n",
    "            clients_indicator[client] = 1\n",
    "            agents_workload_[agent] -= client_time[client]\n",
    "            sln += [(agent, client)]\n",
    "    return sln, sum([match_scores[i] for i in sln])\n",
    "\n"
   ]
  },
  {
   "cell_type": "code",
   "execution_count": 1553,
   "metadata": {},
   "outputs": [],
   "source": [
    "match_scores, client_time, agents_workload, clients_v, agents_v = generate_matching_problem(agents, clients)"
   ]
  },
  {
   "cell_type": "code",
   "execution_count": 1554,
   "metadata": {},
   "outputs": [
    {
     "data": {
      "text/plain": [
       "([('DeAnna', 'Meredith'),\n",
       "  ('Andrew', 'Ashley'),\n",
       "  ('Jesse', 'Jillian'),\n",
       "  ('DeAnna', 'Emily'),\n",
       "  ('Jesse', 'Byron'),\n",
       "  ('Jennifer', 'Bob'),\n",
       "  ('Alex', 'Trista')],\n",
       " 7.0)"
      ]
     },
     "execution_count": 1554,
     "metadata": {},
     "output_type": "execute_result"
    }
   ],
   "source": [
    "solve_matching(match_scores, client_time, agents_workload)"
   ]
  },
  {
   "cell_type": "code",
   "execution_count": 1555,
   "metadata": {},
   "outputs": [
    {
     "data": {
      "text/plain": [
       "([('Alex', 'Trista'),\n",
       "  ('Jennifer', 'Bob'),\n",
       "  ('Andrew', 'Meredith'),\n",
       "  ('DeAnna', 'Aaron'),\n",
       "  ('DeAnna', 'Jillian'),\n",
       "  ('Jesse', 'Ashley')],\n",
       " 6.0)"
      ]
     },
     "execution_count": 1555,
     "metadata": {},
     "output_type": "execute_result"
    }
   ],
   "source": [
    "solve_matching_greedy(match_scores, client_time, agents_workload)"
   ]
  },
  {
   "cell_type": "code",
   "execution_count": 1556,
   "metadata": {},
   "outputs": [],
   "source": [
    "# the matching optimization problem\n",
    "class MatchingProblem(Problem):\n",
    "    def __init__(self, match_scores, client_time, agents_workload, agents_v, clients_v):\n",
    "        self.match_scores = match_scores\n",
    "        self.agents_workload = agents_workload\n",
    "        self.client_time = client_time\n",
    "        self.features = {(agent, client): np.hstack([agents_v[agent], clients_v[client]]) \n",
    "                         for agent, client in match_scores.keys()}\n",
    "\n",
    "\n",
    "class MatchingProblemModel(ProblemModel):\n",
    "    def __init__(self, match_scores, weights_known=False):\n",
    "        if weights_known:\n",
    "            self.weights = match_scores.copy()\n",
    "        else:\n",
    "            self.weights = {i: random.random() for i in match_scores.keys()}\n",
    "        self.arms = self.weights.keys()  \n",
    "        \n",
    "    def get_all_weights(self):\n",
    "        return self.weights\n",
    "    \n",
    "    def set_weights(self, weights):\n",
    "        for k, v in weights.items():\n",
    "            self.weights[k] = v\n",
    "    \n",
    "\n",
    "class MatchingSolver(Solver):\n",
    "    def __init__(self):\n",
    "        pass \n",
    "    \n",
    "    def solve(self, problem, weights):\n",
    "        return solve_matching(weights, problem.client_time, problem.agents_workload)\n",
    "        \n",
    "        \n",
    "class MatchingOracle(Oracle):\n",
    "    def __init__(self, match_scores, noise_factor=3.0):\n",
    "        self.weights = match_scores.copy()\n",
    "        self.arms = self.weights.keys()  \n",
    "        self.noise_factor = noise_factor\n",
    "        \n",
    "    def get_weight(self, x, noisy=False):\n",
    "        if noisy:\n",
    "            return self.weights[x] + (random.random() - 0.5) * self.noise_factor\n",
    "        else:\n",
    "            return self.weights[x]\n",
    "        \n",
    "    def observe(self, problem, solution, noisy=True):\n",
    "        return [self.get_weight(x, noisy=noisy) for x in solution]\n",
    "        \n",
    "        "
   ]
  },
  {
   "cell_type": "code",
   "execution_count": 1590,
   "metadata": {},
   "outputs": [],
   "source": [
    "# CombTS\n",
    "class CombLinTs:\n",
    "    def __init__(self, problem, p_lambda, p_sigma, solver, oracle):\n",
    "        self.d = np.array(list(problem.features.values())).shape[1]\n",
    "        self.p_lambda = p_lambda\n",
    "        self.p_sigma = p_sigma\n",
    "        self.sigma = (p_lambda ** 2) * np.eye(self.d)\n",
    "        self.theta = np.zeros(self.d)\n",
    "        self.solver = solver\n",
    "        self.oracle = oracle\n",
    "        \n",
    "    def sample_theta(self):\n",
    "        return np.random.multivariate_normal(self.theta, self.sigma)\n",
    "    \n",
    "    def update_params(self, wAt):\n",
    "        theta = self.theta\n",
    "        sigma = self.sigma\n",
    "        \n",
    "        n = len(wAt)\n",
    "        \n",
    "        for k, v in wAt.items():\n",
    "            f_vec = np.expand_dims(problem.features[k], axis=1)\n",
    "            t1 = np.matmul(sigma, np.matmul(f_vec, f_vec.T))\n",
    "            t2 = np.matmul(f_vec.T, np.matmul(sigma, f_vec)) + self.p_sigma ** 2\n",
    "            t3 = np.matmul(sigma, f_vec)\n",
    "            t4 = np.matmul(np.matmul(f_vec.T, sigma), f_vec) + self.p_sigma ** 2\n",
    "            theta = np.matmul((np.eye(sigma.shape[0]) - t1 / t2), theta) + \\\n",
    "                        np.squeeze(t3 / t4) * wAt[k]\n",
    "\n",
    "            t1 = np.matmul(np.matmul(sigma, np.matmul(f_vec, f_vec.T)), sigma)\n",
    "            t2 = np.matmul(np.matmul(f_vec.T, sigma), f_vec) + self.p_sigma ** 2\n",
    "            sigma = sigma - t1/t2\n",
    "    \n",
    "        self.theta = theta\n",
    "        self.sigma = sigma\n",
    "            \n",
    "    def bandit_iter(self, problem):\n",
    "        theta = self.sample_theta()\n",
    "        At, _ = self.solver.solve(problem, {k: np.dot(v, theta) for k, v in problem.features.items()})\n",
    "        wAt = self.oracle.observe(problem, At, noisy=True)\n",
    "        wAt = dict(zip(At, wAt))\n",
    "        self.update_params(wAt)\n",
    "        \n",
    "    def solve(self, problem):\n",
    "        theta = self.sample_theta()\n",
    "        sln, _ = self.solver.solve(problem, {k: np.dot(v, theta) for k, v in problem.features.items()})\n",
    "        return sln"
   ]
  },
  {
   "cell_type": "code",
   "execution_count": 1634,
   "metadata": {},
   "outputs": [
    {
     "data": {
      "text/plain": [
       "6.00008340099822"
      ]
     },
     "execution_count": 1634,
     "metadata": {},
     "output_type": "execute_result"
    }
   ],
   "source": [
    "match_scores, client_time, agents_workload, clients_v, agents_v = generate_matching_problem(agents, clients)\n",
    "problem = MatchingProblem(match_scores, client_time, agents_workload, agents_v, clients_v)\n",
    "problem_model = MatchingProblemModel(match_scores, weights_known=False)\n",
    "oracle = MatchingOracle(match_scores, noise_factor=2)\n",
    "solver = MatchingSolver()\n",
    "sln, w = solver.solve(problem, problem_model.get_all_weights())\n",
    "np.sum(oracle.observe(problem, At, noisy=False))\n"
   ]
  },
  {
   "cell_type": "code",
   "execution_count": 1635,
   "metadata": {},
   "outputs": [
    {
     "data": {
      "text/plain": [
       "8.0"
      ]
     },
     "execution_count": 1635,
     "metadata": {},
     "output_type": "execute_result"
    }
   ],
   "source": [
    "problem_model = MatchingProblemModel(match_scores, weights_known=True)\n",
    "sln, w = solver.solve(problem, problem_model.get_all_weights())\n",
    "np.sum(oracle.observe(problem, sln, noisy=False))\n"
   ]
  },
  {
   "cell_type": "code",
   "execution_count": 1638,
   "metadata": {},
   "outputs": [
    {
     "name": "stdout",
     "output_type": "stream",
     "text": [
      "7.0\n",
      "7.0\n",
      "8.0\n",
      "8.0\n",
      "7.0\n",
      "7.0\n",
      "8.0\n",
      "8.0\n",
      "8.0\n",
      "8.0\n"
     ]
    }
   ],
   "source": [
    "p_lambda = 10.\n",
    "p_sigma = 0.1\n",
    "features_dim =  10\n",
    "bandit = CombLinTs(p_lambda=p_lambda,\n",
    "                     p_sigma=p_sigma, problem=problem, solver=solver, oracle=oracle)\n",
    "\n",
    "for i in range(100):\n",
    "    bandit.bandit_iter(problem=problem)\n",
    "    if i % 10 == 0:\n",
    "        At = bandit.solve(problem)\n",
    "        print (np.sum(oracle.observe(problem, At, noisy=False)))"
   ]
  },
  {
   "cell_type": "markdown",
   "metadata": {},
   "source": [
    "* scale up all pairs \n",
    "* We assumed all weight are random, what if they are normal with different means and variances\n",
    "* Emperical bayes for new joiners \n",
    "* Extend to team\n",
    "* spending more time is useful\n",
    "* Streamline with Tensorflow probability"
   ]
  },
  {
   "cell_type": "code",
   "execution_count": 1352,
   "metadata": {},
   "outputs": [
    {
     "data": {
      "text/plain": [
       "6"
      ]
     },
     "execution_count": 1352,
     "metadata": {},
     "output_type": "execute_result"
    }
   ],
   "source": [
    "# TODO: the bandit example\n",
    "# TODO: drwa gunt chart\n",
    "# TODO: shortest path \n",
    "# TODO: Knapsack"
   ]
  },
  {
   "cell_type": "markdown",
   "metadata": {},
   "source": [
    "You may want to do both selection and schedualing, learn improtrance of each client, start from reasonable wights for faster exporation or add more cool features. Very well, we will go through after we introduce some cool tools. For the time being, lets sharpen our skills by solving 2 other problems."
   ]
  },
  {
   "cell_type": "code",
   "execution_count": 1535,
   "metadata": {},
   "outputs": [],
   "source": [
    "# shortest path "
   ]
  },
  {
   "cell_type": "code",
   "execution_count": null,
   "metadata": {},
   "outputs": [],
   "source": []
  },
  {
   "cell_type": "code",
   "execution_count": 1536,
   "metadata": {},
   "outputs": [],
   "source": [
    "#knapsac packing"
   ]
  },
  {
   "cell_type": "code",
   "execution_count": null,
   "metadata": {},
   "outputs": [],
   "source": []
  },
  {
   "cell_type": "markdown",
   "metadata": {},
   "source": [
    "**The dauntless conclusion**: *Be a modeling super star, dont fear missing info!*"
   ]
  },
  {
   "cell_type": "code",
   "execution_count": null,
   "metadata": {},
   "outputs": [],
   "source": []
  }
 ],
 "metadata": {
  "kernelspec": {
   "display_name": "Python 3",
   "language": "python",
   "name": "python3"
  },
  "language_info": {
   "codemirror_mode": {
    "name": "ipython",
    "version": 3
   },
   "file_extension": ".py",
   "mimetype": "text/x-python",
   "name": "python",
   "nbconvert_exporter": "python",
   "pygments_lexer": "ipython3",
   "version": "3.6.9"
  }
 },
 "nbformat": 4,
 "nbformat_minor": 4
}
