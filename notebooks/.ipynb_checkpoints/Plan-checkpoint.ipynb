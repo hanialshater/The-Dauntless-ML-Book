{
 "cells": [
  {
   "cell_type": "markdown",
   "metadata": {},
   "source": [
    "### Part 1: Awake to your true power\n",
    "* chapter 1: ML is a database (not regression, you put schema ask questions, bayesian, what is ml, how i get into AI secondery school, etc.)\n",
    "* chapter 2: Duantless algorithms \n",
    "* chapter 3: Known unkowns\n",
    "* chapter 4: Optimize with experimentation (Bandits, GP, TS, BNN, Tree based for speed, etc.)"
   ]
  },
  {
   "cell_type": "markdown",
   "metadata": {},
   "source": [
    "Part 2: Became a data hacker\n",
    "* chapter 1: Baysian modeling examples\n",
    "* chapter 2: Data analyics examples\n",
    "* chapter 3: Mixture models\n",
    "* chapter 4: Latent variable models\n",
    "* chapter 5: time series \n",
    "* chapter 6: the model zoo"
   ]
  },
  {
   "cell_type": "markdown",
   "metadata": {},
   "source": [
    "### Part 2.5: Became a problem solving master (optimization, meta-heuristics)\n"
   ]
  },
  {
   "cell_type": "markdown",
   "metadata": {},
   "source": [
    "### Part 3: Face your worst nightmares \n",
    "* chapter 1: Show me the money! (construct dataset from noisy heuriscs)\n",
    "* chapter 2: Learn with limited lables (simi-supervised)\n",
    "             Learn from synthetic\n",
    "* chapter 3: What we are talking about (explainable ML)"
   ]
  },
  {
   "cell_type": "code",
   "execution_count": null,
   "metadata": {},
   "outputs": [],
   "source": [
    "### Part 4: Arm your self\n",
    "* chapter 1: Neural networks architectures\n",
    "* chapter 2: Techniques: Few shot learning\n",
    "* chapter  : Imatation learning, reinfrocement learning\n",
    "* chapter 3: NN index \n",
    "* chapter 4: Graph neural networks"
   ]
  },
  {
   "cell_type": "code",
   "execution_count": null,
   "metadata": {},
   "outputs": [],
   "source": [
    "### Part 5: Become a trickster\n",
    "* chapter 1: Alpha zero\n",
    "* chapter 2: Algorithm configuration"
   ]
  },
  {
   "cell_type": "code",
   "execution_count": null,
   "metadata": {},
   "outputs": [],
   "source": [
    "### To be considered\n",
    "* Applications: QU, learning2rank\n",
    "* causality and econometrics\n",
    "* bayesian none parametrics\n",
    "* advances in certain fields\n",
    "* knowladge graph, atomic, etc\n",
    "* ML systems (docker, k8s, sagemaker, etc.)"
   ]
  }
 ],
 "metadata": {
  "kernelspec": {
   "display_name": "Python 3",
   "language": "python",
   "name": "python3"
  },
  "language_info": {
   "codemirror_mode": {
    "name": "ipython",
    "version": 3
   },
   "file_extension": ".py",
   "mimetype": "text/x-python",
   "name": "python",
   "nbconvert_exporter": "python",
   "pygments_lexer": "ipython3",
   "version": "3.6.5"
  }
 },
 "nbformat": 4,
 "nbformat_minor": 2
}
